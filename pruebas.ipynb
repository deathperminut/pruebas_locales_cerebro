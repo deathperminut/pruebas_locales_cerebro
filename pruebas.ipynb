{
 "cells": [
  {
   "cell_type": "code",
   "execution_count": 14,
   "metadata": {},
   "outputs": [],
   "source": [
    "from langchain_community.document_loaders import Docx2txtLoader #To load word files\n",
    "from langchain.document_loaders import PyPDFLoader #To load pdf files\n",
    "from langchain.vectorstores import Chroma #Vectorial DataBase\n",
    "from langchain.embeddings.openai import OpenAIEmbeddings #Word2Vec Model to tokenizer the text\n",
    "from langchain.text_splitter import RecursiveCharacterTextSplitter #To splitt the text\n",
    "from langchain.chat_models import ChatOpenAI #To load LLM from OPENAI\n",
    "from langchain.chains import RetrievalQA #To build chains to QA tasks\n",
    "from langchain import PromptTemplate #Class that allow the before to get in in production\n",
    "from langchain.chains.summarize import load_summarize_chain #To buil chains to summarize tasks\n",
    "import os\n",
    "from langchain.vectorstores import Chroma #The vectorial database\n",
    "from langchain_community.document_loaders import TextLoader"
   ]
  },
  {
   "cell_type": "markdown",
   "metadata": {},
   "source": [
    "DEFINIMOS LA CARPETA CON LOS ARCHIVOS A CODIFICAR"
   ]
  },
  {
   "cell_type": "code",
   "execution_count": 6,
   "metadata": {},
   "outputs": [],
   "source": [
    "#CARRY THE TXT FILES CONTENT TO LANGCHAIN FORMAT:\n",
    "concatenated_files=[]\n",
    "root_path=\"FilesData/\"\n",
    "txt_files=list(os.listdir(\"FilesData\"))\n",
    "for txt in txt_files:\n",
    "    loader = TextLoader(root_path+txt)\n",
    "    data=loader.load()\n",
    "    concatenated_files.extend(data)"
   ]
  },
  {
   "cell_type": "code",
   "execution_count": 7,
   "metadata": {},
   "outputs": [
    {
     "data": {
      "text/plain": [
       "[Document(page_content='Nombrar al mejor jugador de la historia del fÃºtbol es un tema muy debatido y subjetivo, ya que depende de diversos factores como la Ã©poca, el estilo de juego, los logros individuales y colectivos, entre otros. Sin embargo, uno de los nombres que suele destacarse con mayor frecuencia es el de PelÃ©, el legendario futbolista brasileÃ±o.\\n\\nPelÃ©, cuyo nombre real es Edson Arantes do Nascimento, naciÃ³ el 23 de octubre de 1940 en TrÃªs CoraÃ§Ãµes, Brasil. Es ampliamente considerado como uno de los jugadores mÃ¡s talentosos y exitosos en la historia del fÃºtbol. Su habilidad tÃ©cnica, su visiÃ³n de juego, su capacidad goleadora y su liderazgo en el campo lo convierten en una figura legendaria.\\n\\nPelÃ© alcanzÃ³ la fama internacional durante la dÃ©cada de 1950 y 1960, cuando liderÃ³ a la selecciÃ³n brasileÃ±a a la conquista de tres Copas del Mundo de la FIFA en 1958, 1962 y 1970. En estas competiciones, PelÃ© demostrÃ³ su genio futbolÃ\\xadstico, anotando goles memorables y deslumbrando con su juego creativo y habilidoso.\\n\\nA lo largo de su carrera, PelÃ© jugÃ³ principalmente para el Santos FC en Brasil, donde se convirtiÃ³ en el mÃ¡ximo goleador de la historia del club y ganÃ³ numerosos tÃ\\xadtulos, incluidas varias Copas Libertadores. AdemÃ¡s, su paso por el New York Cosmos en la North American Soccer League (NASL) ayudÃ³ a popularizar el fÃºtbol en los Estados Unidos.\\n\\nPelÃ© es recordado por su rÃ©cord impresionante de goles a lo largo de su carrera. Se estima que anotÃ³ mÃ¡s de 1.000 goles en partidos oficiales y amistosos, aunque algunos de estos registros pueden variar segÃºn las fuentes.\\n\\nAdemÃ¡s de sus logros en el campo, PelÃ© se ha convertido en un embajador global del fÃºtbol y un sÃ\\xadmbolo de inspiraciÃ³n para millones de personas en todo el mundo. Su influencia trasciende el deporte, y su legado perdura como uno de los mÃ¡s grandes Ã\\xadconos del fÃºtbol de todos los tiempos.\\n\\nAunque PelÃ© es ampliamente reconocido como uno de los mejores jugadores de la historia del fÃºtbol, es importante destacar que existen otros futbolistas destacados que tambiÃ©n han dejado una huella imborrable en este deporte, como Diego Maradona, Lionel Messi, Cristiano Ronaldo, Johan Cruyff, entre otros. La discusiÃ³n sobre quiÃ©n es el mejor jugador de todos los tiempos seguirÃ¡ siendo tema de debate apasionado entre los aficionados al fÃºtbol.', metadata={'source': 'FilesData/Futbol.txt'}),\n",
       " Document(page_content='Comparar a Lionel Messi con PelÃ© y determinar quiÃ©n es el mejor jugador es una tarea difÃ\\xadcil y altamente subjetiva, ya que ambos futbolistas han dejado un legado impresionante en el deporte. Sin embargo, puedo ofrecerte algunos argumentos que los aficionados suelen utilizar para respaldar la afirmaciÃ³n de que Messi es el mejor jugador que PelÃ©:\\n\\nHabilidades tÃ©cnicas excepcionales: Messi es conocido por su habilidad tÃ©cnica sobresaliente, que incluye un control del balÃ³n asombroso, regate preciso, visiÃ³n de juego y capacidad para marcar goles desde cualquier posiciÃ³n en el campo. Su dominio en el uno contra uno y su capacidad para superar a varios defensores con facilidad son aspectos que lo destacan.\\nConsistencia a lo largo de su carrera: Messi ha mantenido un nivel excepcional de rendimiento a lo largo de su carrera profesional. Ha sido consistentemente uno de los mÃ¡ximos goleadores en las ligas en las que ha jugado, asÃ\\xad como en competiciones internacionales. Su capacidad para mantenerse en la cima durante mÃ¡s de una dÃ©cada es impresionante y habla de su calidad y dedicaciÃ³n al juego.\\nRegistros y logros individuales: Messi ha establecido numerosos rÃ©cords a lo largo de su carrera, incluidos mÃºltiples premios BalÃ³n de Oro, que se otorgan al mejor jugador del mundo. Ha sido el mÃ¡ximo goleador en varias temporadas de la Liga EspaÃ±ola y de la Liga de Campeones de la UEFA. TambiÃ©n ha batido rÃ©cords de goles en partidos internacionales con la selecciÃ³n argentina.\\nVersatilidad y adaptabilidad: A lo largo de su carrera, Messi ha demostrado ser un jugador versÃ¡til capaz de desempeÃ±arse en diferentes posiciones en el campo. Ha jugado como extremo, mediapunta e incluso como falso nueve, adaptÃ¡ndose a las necesidades de su equipo en diferentes momentos. Su capacidad para influir en el juego desde mÃºltiples posiciones es una de sus fortalezas mÃ¡s destacadas.\\nImpacto en el juego y en los resultados del equipo: Messi ha sido fundamental en los Ã©xitos de su equipo, el FC Barcelona, y de la selecciÃ³n argentina. Ha liderado a su equipo en la conquista de numerosos tÃ\\xadtulos de liga, copas nacionales e internacionales, incluidas varias Ligas de Campeones de la UEFA. Su capacidad para influir en el juego y cambiar el rumbo de un partido con su genialidad lo hace destacar entre los mejores jugadores de todos los tiempos.\\nSi bien estos son algunos de los argumentos que respaldan la afirmaciÃ³n de que Messi es mejor que PelÃ©, es importante tener en cuenta que la comparaciÃ³n entre jugadores de diferentes Ã©pocas es complicada debido a los cambios en el fÃºtbol a lo largo del tiempo. Ambos jugadores han dejado un impacto indeleble en el deporte y son admirados por legiones de aficionados en todo el mundo.', metadata={'source': 'FilesData/Messi.txt'}),\n",
       " Document(page_content='La RevoluciÃ³n Francesa fue un perÃ\\xadodo crucial en la historia de Francia que tuvo lugar entre 1789 y 1799. Este evento transformÃ³ radicalmente la estructura polÃ\\xadtica y social del paÃ\\xads, y su impacto se sintiÃ³ en todo el mundo occidental.\\n\\nLa RevoluciÃ³n Francesa se desencadenÃ³ debido a una combinaciÃ³n de factores, incluida la creciente desigualdad social, la mala gestiÃ³n financiera del Estado, la influencia de las ideas ilustradas y el descontento generalizado entre la poblaciÃ³n. La sociedad estaba dividida en tres estamentos: el clero, la nobleza y el tercer estado (compuesto principalmente por la clase trabajadora y la burguesÃ\\xada), y esta divisiÃ³n exacerbaba las tensiones sociales.\\n\\nEl 5 de mayo de 1789, se convocÃ³ a los Estados Generales, una asamblea que representaba a los tres estamentos, para abordar la crisis financiera. Sin embargo, el tercer estado se sintiÃ³ marginado y, el 20 de junio de 1789, formaron la Asamblea Nacional, declarÃ¡ndose a sÃ\\xad mismos como la legÃ\\xadtima autoridad de Francia. Este evento marcÃ³ el inicio de la RevoluciÃ³n Francesa.\\n\\nEl 14 de julio de 1789, los ciudadanos de ParÃ\\xads se levantaron en armas y tomaron la Bastilla, una prisiÃ³n y sÃ\\xadmbolo del despotismo real. Este acto se considera el punto de inflexiÃ³n de la RevoluciÃ³n Francesa y se celebra anualmente como el DÃ\\xada de la Bastilla.\\n\\nLa RevoluciÃ³n Francesa se caracterizÃ³ por una serie de cambios radicales, incluida la aboliciÃ³n del feudalismo y la monarquÃ\\xada absoluta, la declaraciÃ³n de los derechos del hombre y del ciudadano, y la adopciÃ³n de un calendario republicano. TambiÃ©n se llevaron a cabo reformas en la educaciÃ³n, la justicia y la administraciÃ³n pÃºblica.\\n\\nSin embargo, la RevoluciÃ³n Francesa tambiÃ©n fue marcada por la violencia y el conflicto interno. La ejecuciÃ³n del rey Luis XVI y la instauraciÃ³n del perÃ\\xadodo conocido como el Terror, bajo el liderazgo de Maximilien Robespierre, resultaron en miles de ejecuciones. Este perÃ\\xadodo de represiÃ³n polÃ\\xadtica y violencia alcanzÃ³ su punto mÃ¡ximo con la ejecuciÃ³n de Robespierre en 1794.\\n\\n', metadata={'source': 'FilesData/Revolucion_francesa.txt'})]"
      ]
     },
     "execution_count": 7,
     "metadata": {},
     "output_type": "execute_result"
    }
   ],
   "source": [
    "concatenated_files ## [elementos con 2 atributos page_content, route_path]"
   ]
  },
  {
   "cell_type": "markdown",
   "metadata": {},
   "source": [
    "ARMAMOS SET DE DATOS PARA EVITAR SATURAR LA VECTORIZACIÓN"
   ]
  },
  {
   "cell_type": "code",
   "execution_count": 8,
   "metadata": {},
   "outputs": [],
   "source": [
    "#As we can see, the LLM can procces a limit amount of tokens, so that we have to split the text in fragments of 1500 tokens in this case (because is the maximun amount of tokens that support our model)\n",
    "\n",
    "text_splitter = RecursiveCharacterTextSplitter(\n",
    "    chunk_size=1500, #Fragments of text of 1500 tokens\n",
    "    chunk_overlap=200, #For evey fragment that take the 200 last tokens of the last fragment\n",
    "    length_function=len\n",
    "    )\n",
    "\n",
    "documents = text_splitter.split_documents(concatenated_files) #List with the metadata and the content splitt by fragments of 1500 tokens"
   ]
  },
  {
   "cell_type": "code",
   "execution_count": 9,
   "metadata": {},
   "outputs": [
    {
     "data": {
      "text/plain": [
       "[Document(page_content='Nombrar al mejor jugador de la historia del fÃºtbol es un tema muy debatido y subjetivo, ya que depende de diversos factores como la Ã©poca, el estilo de juego, los logros individuales y colectivos, entre otros. Sin embargo, uno de los nombres que suele destacarse con mayor frecuencia es el de PelÃ©, el legendario futbolista brasileÃ±o.\\n\\nPelÃ©, cuyo nombre real es Edson Arantes do Nascimento, naciÃ³ el 23 de octubre de 1940 en TrÃªs CoraÃ§Ãµes, Brasil. Es ampliamente considerado como uno de los jugadores mÃ¡s talentosos y exitosos en la historia del fÃºtbol. Su habilidad tÃ©cnica, su visiÃ³n de juego, su capacidad goleadora y su liderazgo en el campo lo convierten en una figura legendaria.\\n\\nPelÃ© alcanzÃ³ la fama internacional durante la dÃ©cada de 1950 y 1960, cuando liderÃ³ a la selecciÃ³n brasileÃ±a a la conquista de tres Copas del Mundo de la FIFA en 1958, 1962 y 1970. En estas competiciones, PelÃ© demostrÃ³ su genio futbolÃ\\xadstico, anotando goles memorables y deslumbrando con su juego creativo y habilidoso.\\n\\nA lo largo de su carrera, PelÃ© jugÃ³ principalmente para el Santos FC en Brasil, donde se convirtiÃ³ en el mÃ¡ximo goleador de la historia del club y ganÃ³ numerosos tÃ\\xadtulos, incluidas varias Copas Libertadores. AdemÃ¡s, su paso por el New York Cosmos en la North American Soccer League (NASL) ayudÃ³ a popularizar el fÃºtbol en los Estados Unidos.', metadata={'source': 'FilesData/Futbol.txt'}),\n",
       " Document(page_content='PelÃ© es recordado por su rÃ©cord impresionante de goles a lo largo de su carrera. Se estima que anotÃ³ mÃ¡s de 1.000 goles en partidos oficiales y amistosos, aunque algunos de estos registros pueden variar segÃºn las fuentes.\\n\\nAdemÃ¡s de sus logros en el campo, PelÃ© se ha convertido en un embajador global del fÃºtbol y un sÃ\\xadmbolo de inspiraciÃ³n para millones de personas en todo el mundo. Su influencia trasciende el deporte, y su legado perdura como uno de los mÃ¡s grandes Ã\\xadconos del fÃºtbol de todos los tiempos.\\n\\nAunque PelÃ© es ampliamente reconocido como uno de los mejores jugadores de la historia del fÃºtbol, es importante destacar que existen otros futbolistas destacados que tambiÃ©n han dejado una huella imborrable en este deporte, como Diego Maradona, Lionel Messi, Cristiano Ronaldo, Johan Cruyff, entre otros. La discusiÃ³n sobre quiÃ©n es el mejor jugador de todos los tiempos seguirÃ¡ siendo tema de debate apasionado entre los aficionados al fÃºtbol.', metadata={'source': 'FilesData/Futbol.txt'}),\n",
       " Document(page_content='Comparar a Lionel Messi con PelÃ© y determinar quiÃ©n es el mejor jugador es una tarea difÃ\\xadcil y altamente subjetiva, ya que ambos futbolistas han dejado un legado impresionante en el deporte. Sin embargo, puedo ofrecerte algunos argumentos que los aficionados suelen utilizar para respaldar la afirmaciÃ³n de que Messi es el mejor jugador que PelÃ©:', metadata={'source': 'FilesData/Messi.txt'}),\n",
       " Document(page_content='Habilidades tÃ©cnicas excepcionales: Messi es conocido por su habilidad tÃ©cnica sobresaliente, que incluye un control del balÃ³n asombroso, regate preciso, visiÃ³n de juego y capacidad para marcar goles desde cualquier posiciÃ³n en el campo. Su dominio en el uno contra uno y su capacidad para superar a varios defensores con facilidad son aspectos que lo destacan.\\nConsistencia a lo largo de su carrera: Messi ha mantenido un nivel excepcional de rendimiento a lo largo de su carrera profesional. Ha sido consistentemente uno de los mÃ¡ximos goleadores en las ligas en las que ha jugado, asÃ\\xad como en competiciones internacionales. Su capacidad para mantenerse en la cima durante mÃ¡s de una dÃ©cada es impresionante y habla de su calidad y dedicaciÃ³n al juego.\\nRegistros y logros individuales: Messi ha establecido numerosos rÃ©cords a lo largo de su carrera, incluidos mÃºltiples premios BalÃ³n de Oro, que se otorgan al mejor jugador del mundo. Ha sido el mÃ¡ximo goleador en varias temporadas de la Liga EspaÃ±ola y de la Liga de Campeones de la UEFA. TambiÃ©n ha batido rÃ©cords de goles en partidos internacionales con la selecciÃ³n argentina.', metadata={'source': 'FilesData/Messi.txt'}),\n",
       " Document(page_content='Versatilidad y adaptabilidad: A lo largo de su carrera, Messi ha demostrado ser un jugador versÃ¡til capaz de desempeÃ±arse en diferentes posiciones en el campo. Ha jugado como extremo, mediapunta e incluso como falso nueve, adaptÃ¡ndose a las necesidades de su equipo en diferentes momentos. Su capacidad para influir en el juego desde mÃºltiples posiciones es una de sus fortalezas mÃ¡s destacadas.\\nImpacto en el juego y en los resultados del equipo: Messi ha sido fundamental en los Ã©xitos de su equipo, el FC Barcelona, y de la selecciÃ³n argentina. Ha liderado a su equipo en la conquista de numerosos tÃ\\xadtulos de liga, copas nacionales e internacionales, incluidas varias Ligas de Campeones de la UEFA. Su capacidad para influir en el juego y cambiar el rumbo de un partido con su genialidad lo hace destacar entre los mejores jugadores de todos los tiempos.\\nSi bien estos son algunos de los argumentos que respaldan la afirmaciÃ³n de que Messi es mejor que PelÃ©, es importante tener en cuenta que la comparaciÃ³n entre jugadores de diferentes Ã©pocas es complicada debido a los cambios en el fÃºtbol a lo largo del tiempo. Ambos jugadores han dejado un impacto indeleble en el deporte y son admirados por legiones de aficionados en todo el mundo.', metadata={'source': 'FilesData/Messi.txt'}),\n",
       " Document(page_content='La RevoluciÃ³n Francesa fue un perÃ\\xadodo crucial en la historia de Francia que tuvo lugar entre 1789 y 1799. Este evento transformÃ³ radicalmente la estructura polÃ\\xadtica y social del paÃ\\xads, y su impacto se sintiÃ³ en todo el mundo occidental.\\n\\nLa RevoluciÃ³n Francesa se desencadenÃ³ debido a una combinaciÃ³n de factores, incluida la creciente desigualdad social, la mala gestiÃ³n financiera del Estado, la influencia de las ideas ilustradas y el descontento generalizado entre la poblaciÃ³n. La sociedad estaba dividida en tres estamentos: el clero, la nobleza y el tercer estado (compuesto principalmente por la clase trabajadora y la burguesÃ\\xada), y esta divisiÃ³n exacerbaba las tensiones sociales.\\n\\nEl 5 de mayo de 1789, se convocÃ³ a los Estados Generales, una asamblea que representaba a los tres estamentos, para abordar la crisis financiera. Sin embargo, el tercer estado se sintiÃ³ marginado y, el 20 de junio de 1789, formaron la Asamblea Nacional, declarÃ¡ndose a sÃ\\xad mismos como la legÃ\\xadtima autoridad de Francia. Este evento marcÃ³ el inicio de la RevoluciÃ³n Francesa.\\n\\nEl 14 de julio de 1789, los ciudadanos de ParÃ\\xads se levantaron en armas y tomaron la Bastilla, una prisiÃ³n y sÃ\\xadmbolo del despotismo real. Este acto se considera el punto de inflexiÃ³n de la RevoluciÃ³n Francesa y se celebra anualmente como el DÃ\\xada de la Bastilla.', metadata={'source': 'FilesData/Revolucion_francesa.txt'}),\n",
       " Document(page_content='La RevoluciÃ³n Francesa se caracterizÃ³ por una serie de cambios radicales, incluida la aboliciÃ³n del feudalismo y la monarquÃ\\xada absoluta, la declaraciÃ³n de los derechos del hombre y del ciudadano, y la adopciÃ³n de un calendario republicano. TambiÃ©n se llevaron a cabo reformas en la educaciÃ³n, la justicia y la administraciÃ³n pÃºblica.\\n\\nSin embargo, la RevoluciÃ³n Francesa tambiÃ©n fue marcada por la violencia y el conflicto interno. La ejecuciÃ³n del rey Luis XVI y la instauraciÃ³n del perÃ\\xadodo conocido como el Terror, bajo el liderazgo de Maximilien Robespierre, resultaron en miles de ejecuciones. Este perÃ\\xadodo de represiÃ³n polÃ\\xadtica y violencia alcanzÃ³ su punto mÃ¡ximo con la ejecuciÃ³n de Robespierre en 1794.', metadata={'source': 'FilesData/Revolucion_francesa.txt'})]"
      ]
     },
     "execution_count": 9,
     "metadata": {},
     "output_type": "execute_result"
    }
   ],
   "source": [
    "documents"
   ]
  },
  {
   "cell_type": "markdown",
   "metadata": {},
   "source": [
    "## GUARDAMOS COMO UNA VARIABLE DE ENTORNO LA API KEY"
   ]
  },
  {
   "cell_type": "code",
   "execution_count": 10,
   "metadata": {},
   "outputs": [],
   "source": [
    "OPENAI_API_KEY = \"YOUR_OPENAI_API_KEY\"\n",
    "os.environ['OPENAI_API_KEY'] = OPENAI_API_KEY"
   ]
  },
  {
   "cell_type": "markdown",
   "metadata": {},
   "source": [
    "## CARGAMOS EL MODELO"
   ]
  },
  {
   "cell_type": "code",
   "execution_count": 12,
   "metadata": {},
   "outputs": [],
   "source": [
    "embeddings = OpenAIEmbeddings(model=\"text-embedding-ada-002\") #word2vec model of openAI"
   ]
  },
  {
   "cell_type": "code",
   "execution_count": 16,
   "metadata": {},
   "outputs": [
    {
     "ename": "ImportError",
     "evalue": "Could not import chromadb python package. Please install it with `pip install chromadb`.",
     "output_type": "error",
     "traceback": [
      "\u001b[1;31m---------------------------------------------------------------------------\u001b[0m",
      "\u001b[1;31mModuleNotFoundError\u001b[0m                       Traceback (most recent call last)",
      "File \u001b[1;32mc:\\Users\\jsmendez\\EFIGAS_PROJECTS\\WorkSpace\\pruebasCerebro\\venv\\Lib\\site-packages\\langchain_community\\vectorstores\\chroma.py:81\u001b[0m, in \u001b[0;36mChroma.__init__\u001b[1;34m(self, collection_name, embedding_function, persist_directory, client_settings, collection_metadata, client, relevance_score_fn)\u001b[0m\n\u001b[0;32m     80\u001b[0m \u001b[38;5;28;01mtry\u001b[39;00m:\n\u001b[1;32m---> 81\u001b[0m     \u001b[38;5;28;01mimport\u001b[39;00m \u001b[38;5;21;01mchromadb\u001b[39;00m\n\u001b[0;32m     82\u001b[0m     \u001b[38;5;28;01mimport\u001b[39;00m \u001b[38;5;21;01mchromadb\u001b[39;00m\u001b[38;5;21;01m.\u001b[39;00m\u001b[38;5;21;01mconfig\u001b[39;00m\n",
      "\u001b[1;31mModuleNotFoundError\u001b[0m: No module named 'chromadb'",
      "\nDuring handling of the above exception, another exception occurred:\n",
      "\u001b[1;31mImportError\u001b[0m                               Traceback (most recent call last)",
      "Cell \u001b[1;32mIn[16], line 4\u001b[0m\n\u001b[0;32m      1\u001b[0m NOMBRE_INDICE_CHROMA \u001b[38;5;241m=\u001b[39m \u001b[38;5;124m\"\u001b[39m\u001b[38;5;124marchivos_pruebas\u001b[39m\u001b[38;5;124m\"\u001b[39m \u001b[38;5;66;03m#Name of my vectorial database (Put the name that you want)\u001b[39;00m\n\u001b[0;32m      3\u001b[0m \u001b[38;5;66;03m#Creating our vectorial database or vector store\u001b[39;00m\n\u001b[1;32m----> 4\u001b[0m vectorstore_chroma \u001b[38;5;241m=\u001b[39m \u001b[43mChroma\u001b[49m\u001b[38;5;241;43m.\u001b[39;49m\u001b[43mfrom_documents\u001b[49m\u001b[43m(\u001b[49m\n\u001b[0;32m      5\u001b[0m \u001b[43m    \u001b[49m\u001b[43mdocuments\u001b[49m\u001b[38;5;241;43m=\u001b[39;49m\u001b[43mdocuments\u001b[49m\u001b[43m,\u001b[49m\u001b[43m \u001b[49m\u001b[38;5;66;43;03m#Create the database with the list of the created documents (Every instance will be the embedding of every document)\u001b[39;49;00m\n\u001b[0;32m      6\u001b[0m \u001b[43m    \u001b[49m\u001b[43membedding\u001b[49m\u001b[38;5;241;43m=\u001b[39;49m\u001b[43membeddings\u001b[49m\u001b[43m,\u001b[49m\u001b[43m \u001b[49m\u001b[38;5;66;43;03m#Word2vec model to create our embeddings, always use the same.\u001b[39;49;00m\n\u001b[0;32m      7\u001b[0m \u001b[43m    \u001b[49m\u001b[43mpersist_directory\u001b[49m\u001b[38;5;241;43m=\u001b[39;49m\u001b[43mNOMBRE_INDICE_CHROMA\u001b[49m\u001b[43m \u001b[49m\u001b[38;5;66;43;03m#Load my database in the indicated folder (If I close the section, I will keep storaged my vectorial databas in the folder called \"NOMBRE_INDICE_CHROMA\" )\u001b[39;49;00m\n\u001b[0;32m      8\u001b[0m \u001b[43m)\u001b[49m\n",
      "File \u001b[1;32mc:\\Users\\jsmendez\\EFIGAS_PROJECTS\\WorkSpace\\pruebasCerebro\\venv\\Lib\\site-packages\\langchain_community\\vectorstores\\chroma.py:778\u001b[0m, in \u001b[0;36mChroma.from_documents\u001b[1;34m(cls, documents, embedding, ids, collection_name, persist_directory, client_settings, client, collection_metadata, **kwargs)\u001b[0m\n\u001b[0;32m    776\u001b[0m texts \u001b[38;5;241m=\u001b[39m [doc\u001b[38;5;241m.\u001b[39mpage_content \u001b[38;5;28;01mfor\u001b[39;00m doc \u001b[38;5;129;01min\u001b[39;00m documents]\n\u001b[0;32m    777\u001b[0m metadatas \u001b[38;5;241m=\u001b[39m [doc\u001b[38;5;241m.\u001b[39mmetadata \u001b[38;5;28;01mfor\u001b[39;00m doc \u001b[38;5;129;01min\u001b[39;00m documents]\n\u001b[1;32m--> 778\u001b[0m \u001b[38;5;28;01mreturn\u001b[39;00m \u001b[38;5;28;43mcls\u001b[39;49m\u001b[38;5;241;43m.\u001b[39;49m\u001b[43mfrom_texts\u001b[49m\u001b[43m(\u001b[49m\n\u001b[0;32m    779\u001b[0m \u001b[43m    \u001b[49m\u001b[43mtexts\u001b[49m\u001b[38;5;241;43m=\u001b[39;49m\u001b[43mtexts\u001b[49m\u001b[43m,\u001b[49m\n\u001b[0;32m    780\u001b[0m \u001b[43m    \u001b[49m\u001b[43membedding\u001b[49m\u001b[38;5;241;43m=\u001b[39;49m\u001b[43membedding\u001b[49m\u001b[43m,\u001b[49m\n\u001b[0;32m    781\u001b[0m \u001b[43m    \u001b[49m\u001b[43mmetadatas\u001b[49m\u001b[38;5;241;43m=\u001b[39;49m\u001b[43mmetadatas\u001b[49m\u001b[43m,\u001b[49m\n\u001b[0;32m    782\u001b[0m \u001b[43m    \u001b[49m\u001b[43mids\u001b[49m\u001b[38;5;241;43m=\u001b[39;49m\u001b[43mids\u001b[49m\u001b[43m,\u001b[49m\n\u001b[0;32m    783\u001b[0m \u001b[43m    \u001b[49m\u001b[43mcollection_name\u001b[49m\u001b[38;5;241;43m=\u001b[39;49m\u001b[43mcollection_name\u001b[49m\u001b[43m,\u001b[49m\n\u001b[0;32m    784\u001b[0m \u001b[43m    \u001b[49m\u001b[43mpersist_directory\u001b[49m\u001b[38;5;241;43m=\u001b[39;49m\u001b[43mpersist_directory\u001b[49m\u001b[43m,\u001b[49m\n\u001b[0;32m    785\u001b[0m \u001b[43m    \u001b[49m\u001b[43mclient_settings\u001b[49m\u001b[38;5;241;43m=\u001b[39;49m\u001b[43mclient_settings\u001b[49m\u001b[43m,\u001b[49m\n\u001b[0;32m    786\u001b[0m \u001b[43m    \u001b[49m\u001b[43mclient\u001b[49m\u001b[38;5;241;43m=\u001b[39;49m\u001b[43mclient\u001b[49m\u001b[43m,\u001b[49m\n\u001b[0;32m    787\u001b[0m \u001b[43m    \u001b[49m\u001b[43mcollection_metadata\u001b[49m\u001b[38;5;241;43m=\u001b[39;49m\u001b[43mcollection_metadata\u001b[49m\u001b[43m,\u001b[49m\n\u001b[0;32m    788\u001b[0m \u001b[43m    \u001b[49m\u001b[38;5;241;43m*\u001b[39;49m\u001b[38;5;241;43m*\u001b[39;49m\u001b[43mkwargs\u001b[49m\u001b[43m,\u001b[49m\n\u001b[0;32m    789\u001b[0m \u001b[43m\u001b[49m\u001b[43m)\u001b[49m\n",
      "File \u001b[1;32mc:\\Users\\jsmendez\\EFIGAS_PROJECTS\\WorkSpace\\pruebasCerebro\\venv\\Lib\\site-packages\\langchain_community\\vectorstores\\chroma.py:714\u001b[0m, in \u001b[0;36mChroma.from_texts\u001b[1;34m(cls, texts, embedding, metadatas, ids, collection_name, persist_directory, client_settings, client, collection_metadata, **kwargs)\u001b[0m\n\u001b[0;32m    681\u001b[0m \u001b[38;5;129m@classmethod\u001b[39m\n\u001b[0;32m    682\u001b[0m \u001b[38;5;28;01mdef\u001b[39;00m \u001b[38;5;21mfrom_texts\u001b[39m(\n\u001b[0;32m    683\u001b[0m     \u001b[38;5;28mcls\u001b[39m: Type[Chroma],\n\u001b[1;32m   (...)\u001b[0m\n\u001b[0;32m    693\u001b[0m     \u001b[38;5;241m*\u001b[39m\u001b[38;5;241m*\u001b[39mkwargs: Any,\n\u001b[0;32m    694\u001b[0m ) \u001b[38;5;241m-\u001b[39m\u001b[38;5;241m>\u001b[39m Chroma:\n\u001b[0;32m    695\u001b[0m \u001b[38;5;250m    \u001b[39m\u001b[38;5;124;03m\"\"\"Create a Chroma vectorstore from a raw documents.\u001b[39;00m\n\u001b[0;32m    696\u001b[0m \n\u001b[0;32m    697\u001b[0m \u001b[38;5;124;03m    If a persist_directory is specified, the collection will be persisted there.\u001b[39;00m\n\u001b[1;32m   (...)\u001b[0m\n\u001b[0;32m    712\u001b[0m \u001b[38;5;124;03m        Chroma: Chroma vectorstore.\u001b[39;00m\n\u001b[0;32m    713\u001b[0m \u001b[38;5;124;03m    \"\"\"\u001b[39;00m\n\u001b[1;32m--> 714\u001b[0m     chroma_collection \u001b[38;5;241m=\u001b[39m \u001b[38;5;28;43mcls\u001b[39;49m\u001b[43m(\u001b[49m\n\u001b[0;32m    715\u001b[0m \u001b[43m        \u001b[49m\u001b[43mcollection_name\u001b[49m\u001b[38;5;241;43m=\u001b[39;49m\u001b[43mcollection_name\u001b[49m\u001b[43m,\u001b[49m\n\u001b[0;32m    716\u001b[0m \u001b[43m        \u001b[49m\u001b[43membedding_function\u001b[49m\u001b[38;5;241;43m=\u001b[39;49m\u001b[43membedding\u001b[49m\u001b[43m,\u001b[49m\n\u001b[0;32m    717\u001b[0m \u001b[43m        \u001b[49m\u001b[43mpersist_directory\u001b[49m\u001b[38;5;241;43m=\u001b[39;49m\u001b[43mpersist_directory\u001b[49m\u001b[43m,\u001b[49m\n\u001b[0;32m    718\u001b[0m \u001b[43m        \u001b[49m\u001b[43mclient_settings\u001b[49m\u001b[38;5;241;43m=\u001b[39;49m\u001b[43mclient_settings\u001b[49m\u001b[43m,\u001b[49m\n\u001b[0;32m    719\u001b[0m \u001b[43m        \u001b[49m\u001b[43mclient\u001b[49m\u001b[38;5;241;43m=\u001b[39;49m\u001b[43mclient\u001b[49m\u001b[43m,\u001b[49m\n\u001b[0;32m    720\u001b[0m \u001b[43m        \u001b[49m\u001b[43mcollection_metadata\u001b[49m\u001b[38;5;241;43m=\u001b[39;49m\u001b[43mcollection_metadata\u001b[49m\u001b[43m,\u001b[49m\n\u001b[0;32m    721\u001b[0m \u001b[43m        \u001b[49m\u001b[38;5;241;43m*\u001b[39;49m\u001b[38;5;241;43m*\u001b[39;49m\u001b[43mkwargs\u001b[49m\u001b[43m,\u001b[49m\n\u001b[0;32m    722\u001b[0m \u001b[43m    \u001b[49m\u001b[43m)\u001b[49m\n\u001b[0;32m    723\u001b[0m     \u001b[38;5;28;01mif\u001b[39;00m ids \u001b[38;5;129;01mis\u001b[39;00m \u001b[38;5;28;01mNone\u001b[39;00m:\n\u001b[0;32m    724\u001b[0m         ids \u001b[38;5;241m=\u001b[39m [\u001b[38;5;28mstr\u001b[39m(uuid\u001b[38;5;241m.\u001b[39muuid4()) \u001b[38;5;28;01mfor\u001b[39;00m _ \u001b[38;5;129;01min\u001b[39;00m texts]\n",
      "File \u001b[1;32mc:\\Users\\jsmendez\\EFIGAS_PROJECTS\\WorkSpace\\pruebasCerebro\\venv\\Lib\\site-packages\\langchain_community\\vectorstores\\chroma.py:84\u001b[0m, in \u001b[0;36mChroma.__init__\u001b[1;34m(self, collection_name, embedding_function, persist_directory, client_settings, collection_metadata, client, relevance_score_fn)\u001b[0m\n\u001b[0;32m     82\u001b[0m     \u001b[38;5;28;01mimport\u001b[39;00m \u001b[38;5;21;01mchromadb\u001b[39;00m\u001b[38;5;21;01m.\u001b[39;00m\u001b[38;5;21;01mconfig\u001b[39;00m\n\u001b[0;32m     83\u001b[0m \u001b[38;5;28;01mexcept\u001b[39;00m \u001b[38;5;167;01mImportError\u001b[39;00m:\n\u001b[1;32m---> 84\u001b[0m     \u001b[38;5;28;01mraise\u001b[39;00m \u001b[38;5;167;01mImportError\u001b[39;00m(\n\u001b[0;32m     85\u001b[0m         \u001b[38;5;124m\"\u001b[39m\u001b[38;5;124mCould not import chromadb python package. \u001b[39m\u001b[38;5;124m\"\u001b[39m\n\u001b[0;32m     86\u001b[0m         \u001b[38;5;124m\"\u001b[39m\u001b[38;5;124mPlease install it with `pip install chromadb`.\u001b[39m\u001b[38;5;124m\"\u001b[39m\n\u001b[0;32m     87\u001b[0m     )\n\u001b[0;32m     89\u001b[0m \u001b[38;5;28;01mif\u001b[39;00m client \u001b[38;5;129;01mis\u001b[39;00m \u001b[38;5;129;01mnot\u001b[39;00m \u001b[38;5;28;01mNone\u001b[39;00m:\n\u001b[0;32m     90\u001b[0m     \u001b[38;5;28mself\u001b[39m\u001b[38;5;241m.\u001b[39m_client_settings \u001b[38;5;241m=\u001b[39m client_settings\n",
      "\u001b[1;31mImportError\u001b[0m: Could not import chromadb python package. Please install it with `pip install chromadb`."
     ]
    }
   ],
   "source": [
    "NOMBRE_INDICE_CHROMA = \"archivos_pruebas\" #Name of my vectorial database (Put the name that you want)\n",
    "\n",
    "#Creating our vectorial database or vector store\n",
    "vectorstore_chroma = Chroma.from_documents(\n",
    "    documents=documents, #Create the database with the list of the created documents (Every instance will be the embedding of every document)\n",
    "    embedding=embeddings, #Word2vec model to create our embeddings, always use the same.\n",
    "    persist_directory=NOMBRE_INDICE_CHROMA #Load my database in the indicated folder (If I close the section, I will keep storaged my vectorial databas in the folder called \"NOMBRE_INDICE_CHROMA\" )\n",
    ")"
   ]
  },
  {
   "cell_type": "code",
   "execution_count": null,
   "metadata": {},
   "outputs": [],
   "source": []
  }
 ],
 "metadata": {
  "kernelspec": {
   "display_name": "Python 3",
   "language": "python",
   "name": "python3"
  },
  "language_info": {
   "codemirror_mode": {
    "name": "ipython",
    "version": 3
   },
   "file_extension": ".py",
   "mimetype": "text/x-python",
   "name": "python",
   "nbconvert_exporter": "python",
   "pygments_lexer": "ipython3",
   "version": "3.12.1"
  }
 },
 "nbformat": 4,
 "nbformat_minor": 2
}
